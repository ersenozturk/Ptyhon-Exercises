{
 "cells": [
  {
   "cell_type": "code",
   "execution_count": null,
   "metadata": {},
   "outputs": [],
   "source": [
    "fruits = [\"banana\",\"mango\",\"pear\",\"apple\",\"kiwi\",\"grape\"]\n",
    "\n",
    "while True:\n",
    "    try:\n",
    "        index_num= int(input(\"give me a number from 0 to 5\"))\n",
    "        print(\"my favourite fruit is:\",fruits[index_num])\n",
    "        break\n",
    "    except IndexError:\n",
    "        print(\"There is no such an index.Try again!\")\n",
    "    except Exception as bla_bla:\n",
    "        print(\"Something is wrong. For example:\",bla_bla)\n",
    "        "
   ]
  },
  {
   "cell_type": "code",
   "execution_count": null,
   "metadata": {},
   "outputs": [],
   "source": [
    "fruits = [\"banana\",\"mango\",\"pear\",\"apple\",\"kiwi\",\"grape\"]\n",
    "print(\"Don't be shy, enter the correct number up to 3 times\")\n",
    "counter = 3\n",
    "while counter > 0:\n",
    "    try:\n",
    "        index_num= int(input(\"give me a number from 0 to 5\"))\n",
    "        print(\"my favourite fruit is:\",fruits[index_num])\n",
    "    except IndexError:\n",
    "        print(\"There is no such an index.Try again!\")\n",
    "        counter -= 1\n",
    "    except ValueError:\n",
    "        print(\"come on guys.dont give up and correct your values\")\n",
    "        counter -= 1\n",
    "    except Exception as bla_bla:\n",
    "        print(\"Something is wrong. For example:\",bla_bla)\n",
    "        counter -= 1\n",
    "    else:\n",
    "        print(\"bravoo..Our fruits are always fresh. We are waiting for you again.\")\n",
    "        break\n",
    "\n",
    "    finally:\n",
    "        print(\"we are waiting for you again\")"
   ]
  },
  {
   "cell_type": "code",
   "execution_count": null,
   "metadata": {},
   "outputs": [],
   "source": [
    "###CREATE A POWERFULL PASSWORD### "
   ]
  },
  {
   "cell_type": "code",
   "execution_count": null,
   "metadata": {},
   "outputs": [],
   "source": [
    "import random"
   ]
  },
  {
   "cell_type": "code",
   "execution_count": null,
   "metadata": {},
   "outputs": [],
   "source": [
    "print(random.randint(10,30))\n",
    "print(chr(110))\n",
    "print(ord(\"n\"))\n",
    "print([i for i in range(3)])\n",
    "chr(random.randint(65,90))"
   ]
  },
  {
   "cell_type": "code",
   "execution_count": null,
   "metadata": {},
   "outputs": [],
   "source": [
    "# look at ASCII cod table;\n",
    "# for upper alpha(65,90)\n",
    "# for lower alpha(97,122)\n",
    "# for numeric (48,57)\n",
    "# for char (33,47) and (58,64)\n",
    "\n",
    "\n",
    "def strong_password():\n",
    "    uppers = [chr(random.randint(65,90)) for i in range(3)]\n",
    "\n",
    "    lowers = [chr(random.randint(97,122)) for i in range(3)]\n",
    "\n",
    "    numeric = [chr(random.randint(48,57)) for i in range(3)]\n",
    "\n",
    "    char1 = [chr(random.randint(33,47)) for i in range(3)]\n",
    "\n",
    "    char2 = [chr(random.randint(58,64)) for i in range(3)]\n",
    "\n",
    "    strong_password = \"\".join(uppers) + \"\".join(lowers) + \"\".join(numeric) + \"\".join(char1) + \"\".join(char2)\n",
    "    \n",
    "    def mixed(strong_password) :\n",
    "        templist = list(strong_password)\n",
    "        random.shuffle(templist)\n",
    "        return \"\".join(templist)\n",
    "    return mixed(strong_password)"
   ]
  },
  {
   "cell_type": "code",
   "execution_count": null,
   "metadata": {},
   "outputs": [],
   "source": [
    "print(*strong_password())"
   ]
  },
  {
   "cell_type": "code",
   "execution_count": null,
   "metadata": {},
   "outputs": [],
   "source": [
    "###hippo runs to us###\n",
    "word = \"hippo runs to us\"\n",
    "dictt = {}\n",
    "\n",
    "for x in word:\n",
    "    if x in dictt:\n",
    "        dictt[x] += 1\n",
    "    else:\n",
    "        dictt[x] = 1\n",
    "print(dictt)"
   ]
  },
  {
   "cell_type": "code",
   "execution_count": 23,
   "metadata": {},
   "outputs": [
    {
     "name": "stdout",
     "output_type": "stream",
     "text": [
      "{'int': 2, 'str': 3, 'bool': 1, 'list': 1, 'tuple': 1, 'dict': 2, 'set': 1}\n"
     ]
    }
   ],
   "source": [
    "### counter types###\n",
    "veri = [\"a\", \"b\", True, (False,1), {\"1\" : 1}, [1,2], {\"2\":\"two\"}, {2, \"2\"}, \"c\", 23, 0]\n",
    "tipler = [\"int\",\"str\",\"bool\",\"list\",\"tuple\",\"dict\",\"set\"]\n",
    "\n",
    "e_dictt = {}.fromkeys(tipler,0)\n",
    "\n",
    "for i in range(len(veri)):\n",
    "    if type(veri[i]) == int:\n",
    "        e_dictt[\"int\"] += 1\n",
    "    elif type(veri[i]) == str:\n",
    "        e_dictt[\"str\"] += 1\n",
    "    elif type(veri[i]) == bool:\n",
    "        e_dictt[\"bool\"] += 1\n",
    "    elif type(veri[i]) == list:\n",
    "        e_dictt[\"list\"] += 1\n",
    "    elif type(veri[i]) == tuple:\n",
    "        e_dictt[\"tuple\"] += 1\n",
    "    elif type(veri[i]) == dict:\n",
    "        e_dictt[\"dict\"] += 1\n",
    "    else:\n",
    "        e_dictt[\"set\"] += 1\n",
    "print(e_dictt)\n"
   ]
  },
  {
   "cell_type": "code",
   "execution_count": 12,
   "metadata": {},
   "outputs": [
    {
     "name": "stdout",
     "output_type": "stream",
     "text": [
      "True\n"
     ]
    }
   ],
   "source": [
    "'''Task : Find out if the given word is \"comfortable words\" in relation to the ten-finger keyboard use.\n",
    "\n",
    "A comfortable word is a word which you can type always alternating the hand you type with (assuming you type using a Q-keyboard and use of the ten-fingers standard).\n",
    "The word will always be a string consisting of only letters from a to z.\n",
    "Write a program which returns True if it's a comfortable word or False otherwise\n",
    "# tek elle yazılırsa comf değil-fasle, çift elle yazılırsa comf-true'''\n",
    "\n",
    "left_h = \"q, w, e, r, t, a, s, d, f, g, z, x, c, v, b\"\n",
    "right_h = \"y, u, i, o, p, h, j, k, l, n, m\"\n",
    "word = set(input(\"\").lower())\n",
    "\n",
    "if word - set(left_h) == set() or word - set(right_h) == set() :\n",
    "  print(False)\n",
    "else:\n",
    "  print(True)"
   ]
  },
  {
   "cell_type": "code",
   "execution_count": 54,
   "metadata": {},
   "outputs": [
    {
     "name": "stdout",
     "output_type": "stream",
     "text": [
      "1934 is not an armstrong number\n"
     ]
    }
   ],
   "source": [
    "'''\n",
    "Find out if a given number is an \"Armstrong Number\".\n",
    "\n",
    "An n-digit number that is the sum of the n-th powers of its digits is called an n-Armstrong number. Examples :\n",
    "371 = 3**3 + 7**3 + 1**3;\n",
    "9474 = 9**4 + 4**4 + 7**4 + 4**4;\n",
    "\n",
    "Write a Python program that;\n",
    "takes a positive integer number from the user,\n",
    "checks the entered number if it is Armstrong,\n",
    "consider the negative, float and any entries other than numeric values then display a warning message to the user.\n",
    "'''\n",
    "numm = input(\"enter a pozitive number:\")\n",
    "sum = 0\n",
    "\n",
    "if True == numm.isdigit():\n",
    "    for i in numm:\n",
    "        sum += int(i)**len(numm)\n",
    "else:\n",
    "    print(\"It is an invalid entry. Don't use non-numeric, float, or negative values!\")\n",
    "\n",
    "\n",
    "if sum == int(numm):\n",
    "    print(numm, \"is an armstrong number\")\n",
    "else:\n",
    "    print(numm, \"is not an armstrong number\")"
   ]
  },
  {
   "cell_type": "code",
   "execution_count": null,
   "metadata": {},
   "outputs": [],
   "source": [
    "'''\n",
    "Task : Write a program that takes a number from the user and prints the result to check if it is a prime number.\n",
    "\n",
    "The examples of the desired output are as follows :\n",
    "\n",
    "input →  19 ⇉ output : 19 is a prime number\n",
    "input →  10 ⇉ output : 10 is not a prime number\n",
    "'''\n",
    "num = int(input(\"Please enter a number : \"))\n",
    "\n",
    "if num <= 0 :\n",
    "    print(\"Please do not enter negative number or '0'\")\n",
    "elif num == 2 :\n",
    "    print(\"2 is a prime number\")\n",
    "else:\n",
    "    for i in range(2,num) :\n",
    "        if num % i == 0 :\n",
    "            print(\"{} is not a prime number\".format(num))\n",
    "            break\n",
    "    else :\n",
    "        print(\"{} is a prime number\".format(num))"
   ]
  },
  {
   "cell_type": "code",
   "execution_count": null,
   "metadata": {},
   "outputs": [],
   "source": [
    "\"\"\"\n",
    "Task : Create a list consisting of Fibonacci numbers from 1 to 55 using control flow statements.\n",
    "The desired output is like :\n",
    "fibonacci →  [1, 1, 2, 3, 5, 8, 13, 21, 34, 55]\n",
    "\"\"\"\n",
    "fibo = [1,1]\n",
    "while fibo[-1] < 55 :\n",
    "    fibo.append(fibo[-1]+ fibo[-2])\n",
    "print(fibo)"
   ]
  },
  {
   "cell_type": "code",
   "execution_count": null,
   "metadata": {},
   "outputs": [],
   "source": []
  }
 ],
 "metadata": {
  "interpreter": {
   "hash": "51394b80adec3fdcf2f59d7ab2190790db755d219e32e511c09a84262001472f"
  },
  "kernelspec": {
   "display_name": "Python 3.9.7 64-bit",
   "language": "python",
   "name": "python3"
  },
  "language_info": {
   "codemirror_mode": {
    "name": "ipython",
    "version": 3
   },
   "file_extension": ".py",
   "mimetype": "text/x-python",
   "name": "python",
   "nbconvert_exporter": "python",
   "pygments_lexer": "ipython3",
   "version": "3.9.7"
  },
  "orig_nbformat": 4
 },
 "nbformat": 4,
 "nbformat_minor": 2
}
