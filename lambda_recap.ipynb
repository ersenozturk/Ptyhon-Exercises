{
 "cells": [
  {
   "cell_type": "code",
   "execution_count": 103,
   "metadata": {},
   "outputs": [],
   "source": [
    "def my_functions(a,b):\n",
    "    hypotenuse = (a**2 + b**2)**0.5\n",
    "    return hypotenuse"
   ]
  },
  {
   "cell_type": "code",
   "execution_count": 104,
   "metadata": {},
   "outputs": [
    {
     "data": {
      "text/plain": [
       "400"
      ]
     },
     "execution_count": 104,
     "metadata": {},
     "output_type": "execute_result"
    }
   ],
   "source": [
    "(lambda x : x**2) (20)"
   ]
  },
  {
   "cell_type": "code",
   "execution_count": 105,
   "metadata": {},
   "outputs": [
    {
     "name": "stdout",
     "output_type": "stream",
     "text": [
      "<class 'map'>\n",
      "[1, 4, 9, 16, 25]\n",
      "[1, 4, 9, 16, 25]\n"
     ]
    }
   ],
   "source": [
    "iterable = [1, 2, 3, 4, 5]\n",
    "map(lambda x:x**2, iterable)\n",
    "result = map(lambda x:x**2, iterable)\n",
    "print(type(result))  # it's a map type\n",
    "\n",
    "print(list(result))  # we've converted it to list type to print\n",
    "\n",
    "print(list(map(lambda x:x**2, iterable)))  # you can print directly\n"
   ]
  },
  {
   "cell_type": "code",
   "execution_count": 106,
   "metadata": {},
   "outputs": [
    {
     "name": "stdout",
     "output_type": "stream",
     "text": [
      "['oneone', 'sixsix', 'tenten', 'twotwo']\n"
     ]
    }
   ],
   "source": [
    "letter1 = ['o', 's', 't', 't']\n",
    "letter2 = ['n', 'i', 'e', 'w']\n",
    "letter3 = ['e', 'x', 'n', 'o']\n",
    "numbers = map(lambda x, y, z: (x+y+z)*2, letter1, letter2, letter3)\n",
    "\n",
    "print(list(numbers))"
   ]
  },
  {
   "cell_type": "code",
   "execution_count": 107,
   "metadata": {},
   "outputs": [
    {
     "name": "stdout",
     "output_type": "stream",
     "text": [
      "[3, 6, 9, 12, 15]\n"
     ]
    }
   ],
   "source": [
    "number_list = [1, 2, 3, 4, 5]\n",
    "result = list(map(lambda x : 3*x,number_list))\n",
    "print(result)"
   ]
  },
  {
   "cell_type": "code",
   "execution_count": 108,
   "metadata": {},
   "outputs": [
    {
     "name": "stdout",
     "output_type": "stream",
     "text": [
      "first_ten listesindeki çiftsaılar: [0, 2, 4, 6, 8]\n"
     ]
    }
   ],
   "source": [
    "first_ten = [0, 1, 2, 3, 4, 5, 6, 7, 8, 9] \n",
    "even = filter(lambda x : x%2==0,first_ten)\n",
    "print(\"first_ten listesindeki çiftsaılar:\",list(even))"
   ]
  },
  {
   "cell_type": "code",
   "execution_count": 109,
   "metadata": {},
   "outputs": [
    {
     "name": "stdout",
     "output_type": "stream",
     "text": [
      "['a', 'e', 'i']\n"
     ]
    }
   ],
   "source": [
    "vowel_list = ['a', 'e', 'i', 'o', 'u']\n",
    "first_ten = ['a', 'b', 'c', 'd', 'e', 'f', 'g', 'h', 'i', 'j']\n",
    "vowel_in_first = filter(lambda x: True if x in vowel_list else False,first_ten)\n",
    "print(list(vowel_in_first))"
   ]
  },
  {
   "cell_type": "code",
   "execution_count": 110,
   "metadata": {},
   "outputs": [
    {
     "name": "stdout",
     "output_type": "stream",
     "text": [
      "[6, 7, 8, 9, 10]\n"
     ]
    }
   ],
   "source": [
    "number_list=[1, 2, 3, 4, 5, 6, 7, 8, 9, 10]\n",
    "result = list(filter(lambda x: True if x >= 6 else False,number_list))\n",
    "print(result)"
   ]
  },
  {
   "cell_type": "code",
   "execution_count": 118,
   "metadata": {},
   "outputs": [
    {
     "name": "stdout",
     "output_type": "stream",
     "text": [
      "[1, 3, 5, 7, 9]\n"
     ]
    }
   ],
   "source": [
    "number_list=[1, 2, 3, 4, 5, 6, 7, 8, 9, 10]\n",
    "\n",
    "result= list(filter(lambda x: True if x%2!=0 else False,number_list))\n",
    "print(result)"
   ]
  },
  {
   "cell_type": "code",
   "execution_count": 111,
   "metadata": {},
   "outputs": [
    {
     "name": "stdout",
     "output_type": "stream",
     "text": [
      "4\n",
      "8\n",
      "16\n"
     ]
    }
   ],
   "source": [
    "def modular_function(n):\n",
    "    return lambda x: x ** n\n",
    "    \n",
    "power_of_2 = modular_function(2)  # first sub-function derived from def\n",
    "power_of_3 = modular_function(3)  # second sub-function derived from def\n",
    "power_of_4 = modular_function(4)  # third sub-function derived from def\n",
    "\n",
    "print(power_of_2(2))  # 2 to the power of 2\n",
    "print(power_of_3(2))  # 2 to the power of 3\n",
    "print(power_of_4(2))  # 2 to the power of 4"
   ]
  },
  {
   "cell_type": "code",
   "execution_count": 112,
   "metadata": {},
   "outputs": [
    {
     "name": "stdout",
     "output_type": "stream",
     "text": [
      "alex alex \n",
      "lara lara lara \n",
      "linda linda linda linda \n"
     ]
    }
   ],
   "source": [
    "def repeater(n):\n",
    "    return lambda x: x * n\n",
    "    \n",
    "repeat_2_times = repeater(2)  # repeats 2 times\n",
    "repeat_3_times = repeater(3)  # repeats 3 times\n",
    "repeat_4_times = repeater(4)  # repeats 4 times\n",
    "\n",
    "print(repeat_2_times('alex '))\n",
    "print(repeat_3_times('lara '))\n",
    "print(repeat_4_times('linda '))"
   ]
  },
  {
   "cell_type": "code",
   "execution_count": 113,
   "metadata": {},
   "outputs": [
    {
     "name": "stdout",
     "output_type": "stream",
     "text": [
      "125\n",
      "125\n"
     ]
    }
   ],
   "source": [
    "def modular_function(n):                  #1\n",
    "    return lambda x: x ** n\n",
    "\n",
    "power_of_3 = modular_function(3)\n",
    "print(power_of_3(5))\n",
    "\n",
    "print((lambda x: x**3)(5))                  #2\n"
   ]
  },
  {
   "cell_type": "code",
   "execution_count": 114,
   "metadata": {},
   "outputs": [
    {
     "name": "stdout",
     "output_type": "stream",
     "text": [
      "9.0\n"
     ]
    }
   ],
   "source": [
    "mean = lambda x, y: (x+y)/2\n",
    "print(mean(8, 10))"
   ]
  },
  {
   "cell_type": "code",
   "execution_count": 66,
   "metadata": {},
   "outputs": [
    {
     "name": "stdout",
     "output_type": "stream",
     "text": [
      "45\n"
     ]
    }
   ],
   "source": [
    "multiply = lambda x: x * 4\n",
    "add = lambda x, y: x + y\n",
    "print(add(multiply(10), 5))"
   ]
  },
  {
   "cell_type": "code",
   "execution_count": null,
   "metadata": {},
   "outputs": [],
   "source": [
    "number_list = [1, 2, 3, 4]\n",
    "result = map(lambda x:x**3, number_list)\n",
    "print(list(result))"
   ]
  },
  {
   "cell_type": "code",
   "execution_count": 121,
   "metadata": {},
   "outputs": [
    {
     "name": "stdout",
     "output_type": "stream",
     "text": [
      "12\n"
     ]
    }
   ],
   "source": [
    "def sum_double(x, y):\n",
    "    if x != y:\n",
    "        return x+y\n",
    "    else:\n",
    "        return (x+y)*2\n",
    "\n",
    "print(sum_double(5, 7))\n"
   ]
  }
 ],
 "metadata": {
  "interpreter": {
   "hash": "51394b80adec3fdcf2f59d7ab2190790db755d219e32e511c09a84262001472f"
  },
  "kernelspec": {
   "display_name": "Python 3.9.7 64-bit",
   "language": "python",
   "name": "python3"
  },
  "language_info": {
   "codemirror_mode": {
    "name": "ipython",
    "version": 3
   },
   "file_extension": ".py",
   "mimetype": "text/x-python",
   "name": "python",
   "nbconvert_exporter": "python",
   "pygments_lexer": "ipython3",
   "version": "3.9.7"
  },
  "orig_nbformat": 4
 },
 "nbformat": 4,
 "nbformat_minor": 2
}
