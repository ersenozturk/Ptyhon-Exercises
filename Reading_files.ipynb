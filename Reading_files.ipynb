{
 "cells": [
  {
   "cell_type": "code",
   "execution_count": 80,
   "metadata": {},
   "outputs": [],
   "source": [
    "import os"
   ]
  },
  {
   "cell_type": "code",
   "execution_count": 81,
   "metadata": {},
   "outputs": [
    {
     "data": {
      "text/plain": [
       "['fishes.txt', 'karma-20,21.ipynb', 'Reading_files.ipynb', 'rumi.txt']"
      ]
     },
     "execution_count": 81,
     "metadata": {},
     "output_type": "execute_result"
    }
   ],
   "source": [
    "dosya_içeriği = os.listdir()   #mevcut klasörün içeriğini listeler\n",
    "dosya_içeriği"
   ]
  },
  {
   "cell_type": "code",
   "execution_count": 83,
   "metadata": {},
   "outputs": [
    {
     "data": {
      "text/plain": [
       "'c:\\\\Users\\\\90543\\\\Desktop\\\\pythonPlusExercises'"
      ]
     },
     "execution_count": 83,
     "metadata": {},
     "output_type": "execute_result"
    }
   ],
   "source": [
    "pwd"
   ]
  },
  {
   "cell_type": "code",
   "execution_count": 82,
   "metadata": {},
   "outputs": [
    {
     "name": "stdout",
     "output_type": "stream",
     "text": [
      "Orca is a kind of Dolphin.\n",
      "Blue Whale is the largest animal known on earth.\n",
      "Sharks are the sister group to the Rays (batoids).\n",
      "The Tuna Fish can weigh up to 260 kg.\n",
      "Squid and Octopus are in the same class.\n"
     ]
    }
   ],
   "source": [
    "file = open(\"fishes.txt\", \"r\", encoding=\"utf-8\")\n",
    "print(file.read())\n",
    "\n",
    "file.close()"
   ]
  },
  {
   "cell_type": "code",
   "execution_count": 84,
   "metadata": {},
   "outputs": [],
   "source": [
    "file = open(\"fishes.txt\", \"r\", encoding=\"utf-8\")\n",
    "content =file.read()\n",
    "\n",
    "file.close()"
   ]
  },
  {
   "cell_type": "code",
   "execution_count": 85,
   "metadata": {},
   "outputs": [
    {
     "data": {
      "text/plain": [
       "'Orca is a kind of Dolphin.\\nBlue Whale is the largest animal known on earth.\\nSharks are the sister group to the Rays (batoids).\\nThe Tuna Fish can weigh up to 260 kg.\\nSquid and Octopus are in the same class.'"
      ]
     },
     "execution_count": 85,
     "metadata": {},
     "output_type": "execute_result"
    }
   ],
   "source": [
    "content"
   ]
  },
  {
   "cell_type": "code",
   "execution_count": 87,
   "metadata": {},
   "outputs": [
    {
     "data": {
      "text/plain": [
       "'.ssalc emas eht ni era supotcO dna diuqS\\n.gk 062 ot pu hgiew nac hsiF anuT ehT\\n.)sdiotab( syaR eht ot puorg retsis eht era skrahS\\n.htrae no nwonk lamina tsegral eht si elahW eulB\\n.nihploD fo dnik a si acrO'"
      ]
     },
     "execution_count": 87,
     "metadata": {},
     "output_type": "execute_result"
    }
   ],
   "source": [
    "content[::-1]"
   ]
  },
  {
   "cell_type": "code",
   "execution_count": null,
   "metadata": {},
   "outputs": [],
   "source": [
    "file = open(\"fishes.txt\", \"r\", encoding=\"utf-8\")\n",
    "print(file.read(33))        #33 char exist\n",
    "\n",
    "file.close()"
   ]
  },
  {
   "cell_type": "code",
   "execution_count": null,
   "metadata": {},
   "outputs": [],
   "source": [
    "file = open(\"fishes.txt\", \"r\", encoding=\"utf-8\")\n",
    "print(file.read(33))        #33 char first \n",
    "print(file.read(33))        #33 char second \n",
    "\n",
    "file.close()"
   ]
  },
  {
   "cell_type": "code",
   "execution_count": 88,
   "metadata": {},
   "outputs": [
    {
     "name": "stdout",
     "output_type": "stream",
     "text": [
      "Orca is a kind of Dolphin.\n",
      "Blue W ###1\n",
      "hale is the largest animal known  ###2\n",
      "rca is a kind of Dolphin.\n",
      "Blue Wh ###3\n"
     ]
    }
   ],
   "source": [
    "file = open(\"fishes.txt\", \"r\", encoding=\"utf-8\")\n",
    "print(file.read(33),\"###1\")        #33 char first \n",
    "print(file.read(33),\"###2\")        #33 char second \n",
    "file.seek(1)                        #imleci istediğimiz yere getirir\n",
    "print(file.read(33),\"###3\")\n",
    "\n",
    "file.close()"
   ]
  },
  {
   "cell_type": "code",
   "execution_count": 89,
   "metadata": {},
   "outputs": [
    {
     "name": "stdout",
     "output_type": "stream",
     "text": [
      "Orca is a kind of Dolphin.\n",
      "Blue W ###1\n",
      "hale is the largest animal known  ###2\n",
      "rca is a kind of Dolphin.\n",
      "Blue Wh ###3\n",
      "35\n"
     ]
    }
   ],
   "source": [
    "file = open(\"fishes.txt\", \"r\", encoding=\"utf-8\")\n",
    "print(file.read(33),\"###1\")        #33 char first \n",
    "print(file.read(33),\"###2\")        #33 char second \n",
    "file.seek(1)                        #imleci istediğimiz yere getirir\n",
    "print(file.read(33),\"###3\")\n",
    "print(file.tell())                  # imlecin nerde kaldıpını söyler\n",
    "\n",
    "file.close()"
   ]
  },
  {
   "cell_type": "code",
   "execution_count": null,
   "metadata": {},
   "outputs": [],
   "source": [
    "rumi = open(\"rumi.txt\", \"r\", encoding=\"utf-8\")\n",
    "print(rumi.read())\n",
    "\n",
    "rumi.close()"
   ]
  },
  {
   "cell_type": "code",
   "execution_count": null,
   "metadata": {},
   "outputs": [],
   "source": [
    "rumi = open(\"rumi.txt\", \"r\", encoding=\"utf-8\")\n",
    "print(rumi.read(40))\n",
    "print(rumi.read(20))\n",
    "\n",
    "rumi.close()"
   ]
  },
  {
   "cell_type": "code",
   "execution_count": 92,
   "metadata": {},
   "outputs": [
    {
     "name": "stdout",
     "output_type": "stream",
     "text": [
      "Orca is a kind of Dolphin.\n",
      "\n",
      "Blue Whale is the largest animal known on earth.\n",
      "\n",
      "Sharks are the sister group to the Rays (batoids).\n",
      "\n"
     ]
    }
   ],
   "source": [
    "#readline()\n",
    "sea = open(\"fishes.txt\",\"r\",encoding=\"utf-8\")\n",
    "\n",
    "print(sea.readline())       #each time it goes to the new line(\\n)\n",
    "print(sea.readline())\n",
    "print(sea.readline())\n",
    "\n",
    "sea.close()"
   ]
  },
  {
   "cell_type": "code",
   "execution_count": 91,
   "metadata": {},
   "outputs": [
    {
     "name": "stdout",
     "output_type": "stream",
     "text": [
      "Orca is a kin\n",
      "d of Dolphin.\n",
      "\n",
      "\n"
     ]
    }
   ],
   "source": [
    "sea = open(\"fishes.txt\",\"r\",encoding=\"utf-8\")\n",
    "\n",
    "print(sea.readline(13))       #first 13 char    # normalde ilk satır 27 karakter\n",
    "print(sea.readline(13))       #second 13 char\n",
    "print(sea.readline(1000000))    #whatever write,no matter..\n",
    "\n",
    "sea.close()"
   ]
  },
  {
   "cell_type": "code",
   "execution_count": 90,
   "metadata": {},
   "outputs": [
    {
     "name": "stdout",
     "output_type": "stream",
     "text": [
      "['Orca is a kind of Dolphin.\\n', 'Blue Whale is the largest animal known on earth.\\n', 'Sharks are the sister group to the Rays (batoids).\\n', 'The Tuna Fish can weigh up to 260 kg.\\n', 'Squid and Octopus are in the same class.']\n"
     ]
    }
   ],
   "source": [
    "#readlines()\n",
    "sea = open(\"fishes.txt\",\"r\",encoding=\"utf-8\")   #readlines() print edildiğiinde liste çıktı verir.\n",
    "                                                #text in her satırı itere edileblicek bir liste elemanı oluyor\n",
    "print(sea.readlines())\n",
    "\n",
    "sea.close()"
   ]
  },
  {
   "cell_type": "code",
   "execution_count": 93,
   "metadata": {},
   "outputs": [],
   "source": [
    "with open(\"fishes.txt\", \"r\") as file :\n",
    "    fish = file.readlines()"
   ]
  },
  {
   "cell_type": "code",
   "execution_count": 98,
   "metadata": {},
   "outputs": [
    {
     "name": "stdout",
     "output_type": "stream",
     "text": [
      "5\n",
      "Blue Whale is the largest animal known on earth.\n",
      "\n",
      "Squid and Octopus are in the same class.\n"
     ]
    }
   ],
   "source": [
    "print(len(fish))\n",
    "print(fish[1])\n",
    "print(fish[4])\n"
   ]
  },
  {
   "cell_type": "code",
   "execution_count": 104,
   "metadata": {},
   "outputs": [
    {
     "name": "stdout",
     "output_type": "stream",
     "text": [
      "Orca is a kind of Dolphin.\n",
      " ##\n",
      "Blue Whale is the largest animal known on earth.\n",
      " ##\n",
      "Sharks are the sister group to the Rays (batoids).\n",
      " ##\n",
      "The Tuna Fish can weigh up to 260 kg.\n",
      " ##\n",
      "Squid and Octopus are in the same class. ##\n"
     ]
    }
   ],
   "source": [
    "for line in fish:\n",
    "    print(line,\"##\")"
   ]
  },
  {
   "cell_type": "code",
   "execution_count": 106,
   "metadata": {},
   "outputs": [
    {
     "name": "stdout",
     "output_type": "stream",
     "text": [
      "this is the first line of my text file\n"
     ]
    }
   ],
   "source": [
    "#writing to file   \"a\" like a echo>> ;;;  \"w\" like a echo>\n",
    "\n",
    "with open(\"dummy_file.txt\",\"w\",encoding=\"utf-8\") as file:       # we create and open the file\n",
    "    file.write(\"this is the first line of my text file\")        # writes str data into file\n",
    "\n",
    "with open(\"dummy_file.txt\", \"r\", encoding=\"utf-8\") as file:\n",
    "    print(file.read())                                          # reads the content of the \"dummy_file\"\n",
    "\n"
   ]
  },
  {
   "cell_type": "code",
   "execution_count": 109,
   "metadata": {},
   "outputs": [
    {
     "name": "stdout",
     "output_type": "stream",
     "text": [
      "banana\n",
      "orange\n",
      "apple\n",
      "strawberry\n",
      "cherry\n",
      "\n"
     ]
    }
   ],
   "source": [
    "##\n",
    "fruits = [\"banana\", \"orange\", \"apple\", \"strawberry\", \"cherry\"]\n",
    "\n",
    "with open(\"fruits.txt\", \"w\", encoding=\"utf-8\") as dosyammm :\n",
    "    for i in fruits :\n",
    "        dosyammm.write(i + \"\\n\")\n",
    "\n",
    "with open(\"fruits.txt\", \"r\", encoding=\"utf-8\") as dosy :\n",
    "    print(dosy.read())"
   ]
  },
  {
   "cell_type": "code",
   "execution_count": 115,
   "metadata": {},
   "outputs": [
    {
     "data": {
      "text/plain": [
       "['banana\\n', 'orange\\n', 'apple\\n', 'strawberry\\n', 'cherry\\n']"
      ]
     },
     "execution_count": 115,
     "metadata": {},
     "output_type": "execute_result"
    }
   ],
   "source": [
    "with open(\"fruits.txt\") as my_file:\n",
    "    my_packageee = my_file.readlines()\n",
    "\n",
    "\n",
    "my_packageee"
   ]
  },
  {
   "cell_type": "code",
   "execution_count": 116,
   "metadata": {},
   "outputs": [
    {
     "data": {
      "text/plain": [
       "'strawberry\\n'"
      ]
     },
     "execution_count": 116,
     "metadata": {},
     "output_type": "execute_result"
    }
   ],
   "source": [
    "my_packageee[3]"
   ]
  },
  {
   "cell_type": "code",
   "execution_count": 117,
   "metadata": {},
   "outputs": [],
   "source": [
    "#writelines() >>> dosyamıza her bir satırı eleman olan bir liste\n",
    "with open(\"my_packageee.txt\",\"w\",encoding=\"utf-8\") as ff :\n",
    "    ff.writelines(my_packageee)"
   ]
  },
  {
   "cell_type": "code",
   "execution_count": 118,
   "metadata": {},
   "outputs": [
    {
     "name": "stdout",
     "output_type": "stream",
     "text": [
      "banana\n",
      "orange\n",
      "apple\n",
      "strawberry\n",
      "cherry\n",
      "\n"
     ]
    }
   ],
   "source": [
    "with open(\"my_packageee.txt\",\"r\",encoding=\"utf-8\") as ff :\n",
    "    print(ff.read())"
   ]
  },
  {
   "cell_type": "code",
   "execution_count": 119,
   "metadata": {},
   "outputs": [],
   "source": [
    "with open(\"my_packageee.txt\",\"a\",encoding=\"utf-8\") as ff :\n",
    "    ff.writelines(my_packageee)"
   ]
  },
  {
   "cell_type": "code",
   "execution_count": 120,
   "metadata": {},
   "outputs": [
    {
     "name": "stdout",
     "output_type": "stream",
     "text": [
      "banana\n",
      "orange\n",
      "apple\n",
      "strawberry\n",
      "cherry\n",
      "banana\n",
      "orange\n",
      "apple\n",
      "strawberry\n",
      "cherry\n",
      "\n"
     ]
    }
   ],
   "source": [
    "with open(\"my_packageee.txt\",\"r\",encoding=\"utf-8\") as ff :\n",
    "    print(ff.read())"
   ]
  },
  {
   "cell_type": "code",
   "execution_count": 122,
   "metadata": {},
   "outputs": [
    {
     "data": {
      "text/plain": [
       "['banana\\n', 'orange\\n', 'apple\\n', 'strawberry\\n', 'cherry\\n', 'lemon']"
      ]
     },
     "execution_count": 122,
     "metadata": {},
     "output_type": "execute_result"
    }
   ],
   "source": [
    "my_packageee2 =my_packageee + [\"lemon\"]\n",
    "my_packageee2"
   ]
  },
  {
   "cell_type": "code",
   "execution_count": null,
   "metadata": {},
   "outputs": [],
   "source": []
  }
 ],
 "metadata": {
  "interpreter": {
   "hash": "51394b80adec3fdcf2f59d7ab2190790db755d219e32e511c09a84262001472f"
  },
  "kernelspec": {
   "display_name": "Python 3.9.7 64-bit",
   "language": "python",
   "name": "python3"
  },
  "language_info": {
   "codemirror_mode": {
    "name": "ipython",
    "version": 3
   },
   "file_extension": ".py",
   "mimetype": "text/x-python",
   "name": "python",
   "nbconvert_exporter": "python",
   "pygments_lexer": "ipython3",
   "version": "3.9.7"
  },
  "orig_nbformat": 4
 },
 "nbformat": 4,
 "nbformat_minor": 2
}
